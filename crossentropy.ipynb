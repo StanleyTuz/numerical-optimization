{
 "metadata": {
  "language_info": {
   "codemirror_mode": {
    "name": "ipython",
    "version": 3
   },
   "file_extension": ".py",
   "mimetype": "text/x-python",
   "name": "python",
   "nbconvert_exporter": "python",
   "pygments_lexer": "ipython3",
   "version": 3
  },
  "orig_nbformat": 2
 },
 "nbformat": 4,
 "nbformat_minor": 2,
 "cells": [
  {
   "source": [
    "## Toy Example\n",
    "\n",
    "We want to uncover an unknown binary vector $y=\\left(y_1,\\ldots,y_n\\right)$, but we don't have direct access to it. Instead, we can pass guesses $x=\\left(x_1,\\ldots,x_n\\right)$ into a black box (or \"oracle\") which returns the response $$ S\\left(x\\right) = n - \\sum_{j=1}^n \\left|x_j - y_j\\right|,$$ the number of matches between the vectors $x$ and $y$. "
   ],
   "cell_type": "markdown",
   "metadata": {}
  },
  {
   "cell_type": "code",
   "execution_count": null,
   "metadata": {},
   "outputs": [],
   "source": []
  }
 ]
}